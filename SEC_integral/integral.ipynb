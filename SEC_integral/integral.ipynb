{
 "cells": [
  {
   "cell_type": "code",
   "execution_count": 1,
   "id": "9c2785f8",
   "metadata": {},
   "outputs": [],
   "source": [
    "import cv2\n",
    "import numpy as np"
   ]
  },
  {
   "cell_type": "code",
   "execution_count": 2,
   "id": "87fb9578",
   "metadata": {},
   "outputs": [
    {
     "name": "stdout",
     "output_type": "stream",
     "text": [
      "Contour #1 has 5980 pixels inside.\n",
      "Contour #2 has 12088 pixels inside.\n",
      "Contour #3 has 30236 pixels inside.\n",
      "Contour #4 has 323041 pixels inside.\n"
     ]
    }
   ],
   "source": [
    "\n",
    "# Load the image\n",
    "img = cv2.imread(\"1_splited.png\", cv2.IMREAD_GRAYSCALE)\n",
    "\n",
    "# Threshold the image to binary\n",
    "_, binary = cv2.threshold(img, 127, 255, cv2.THRESH_BINARY)\n",
    "\n",
    "# Find contours\n",
    "contours, _ = cv2.findContours(binary, cv2.RETR_EXTERNAL, cv2.CHAIN_APPROX_SIMPLE)\n",
    "\n",
    "# Create a blank mask same size as the image\n",
    "mask = np.zeros_like(img)\n",
    "\n",
    "# Loop through contours\n",
    "for i, contour in enumerate(contours):\n",
    "    # Fill the contour on the mask\n",
    "    mask = np.zeros_like(img)\n",
    "    cv2.drawContours(mask, [contour], -1, 255, thickness=cv2.FILLED)\n",
    "\n",
    "    # Count non-zero pixels inside the mask for this contour\n",
    "    contour_mask = np.zeros_like(img)\n",
    "    cv2.drawContours(contour_mask, [contour], -1, 255, thickness=cv2.FILLED)\n",
    "    pixel_count = cv2.countNonZero(contour_mask)\n",
    "    cv2.imwrite(f\"splited1_{i}.png\", mask)\n",
    "    print(f\"Contour #{i+1} has {pixel_count} pixels inside.\")\n",
    "\n"
   ]
  },
  {
   "cell_type": "code",
   "execution_count": 3,
   "id": "5d10695c",
   "metadata": {},
   "outputs": [
    {
     "name": "stdout",
     "output_type": "stream",
     "text": [
      "Contour #1 has 5334 pixels inside.\n",
      "Contour #2 has 890 pixels inside.\n",
      "Contour #3 has 40116 pixels inside.\n",
      "Contour #4 has 325961 pixels inside.\n"
     ]
    }
   ],
   "source": [
    "\n",
    "# Load the image\n",
    "img = cv2.imread(\"2_splited.png\", cv2.IMREAD_GRAYSCALE)\n",
    "\n",
    "# Threshold the image to binary\n",
    "_, binary = cv2.threshold(img, 127, 255, cv2.THRESH_BINARY)\n",
    "\n",
    "# Find contours\n",
    "contours, _ = cv2.findContours(binary, cv2.RETR_EXTERNAL, cv2.CHAIN_APPROX_SIMPLE)\n",
    "\n",
    "# Create a blank mask same size as the image\n",
    "mask = np.zeros_like(img)\n",
    "\n",
    "# Loop through contours\n",
    "for i, contour in enumerate(contours):\n",
    "    # Fill the contour on the mask\n",
    "    mask = np.zeros_like(img)\n",
    "    cv2.drawContours(mask, [contour], -1, 255, thickness=cv2.FILLED)\n",
    "\n",
    "    # Count non-zero pixels inside the mask for this contour\n",
    "    contour_mask = np.zeros_like(img)\n",
    "    cv2.drawContours(contour_mask, [contour], -1, 255, thickness=cv2.FILLED)\n",
    "    pixel_count = cv2.countNonZero(contour_mask)\n",
    "    cv2.imwrite(f\"splited2_{i}.png\", mask)\n",
    "    print(f\"Contour #{i+1} has {pixel_count} pixels inside.\")\n",
    "\n"
   ]
  },
  {
   "cell_type": "code",
   "execution_count": null,
   "id": "4cf4bccc",
   "metadata": {},
   "outputs": [],
   "source": []
  }
 ],
 "metadata": {
  "kernelspec": {
   "display_name": "general",
   "language": "python",
   "name": "python3"
  },
  "language_info": {
   "codemirror_mode": {
    "name": "ipython",
    "version": 3
   },
   "file_extension": ".py",
   "mimetype": "text/x-python",
   "name": "python",
   "nbconvert_exporter": "python",
   "pygments_lexer": "ipython3",
   "version": "3.12.8"
  }
 },
 "nbformat": 4,
 "nbformat_minor": 5
}
